{
  "nbformat": 4,
  "nbformat_minor": 0,
  "metadata": {
    "colab": {
      "name": "EE18MECH11026_EE5611_A4.ipynb",
      "provenance": [],
      "collapsed_sections": [],
      "authorship_tag": "ABX9TyPGa9OmzEkk5mWk8POTWT/h",
      "include_colab_link": true
    },
    "kernelspec": {
      "name": "python3",
      "display_name": "Python 3"
    }
  },
  "cells": [
    {
      "cell_type": "markdown",
      "metadata": {
        "id": "view-in-github",
        "colab_type": "text"
      },
      "source": [
        "<a href=\"https://colab.research.google.com/github/rohithreddyvennam/AssignmentsFiles/blob/master/EE18MECH11026_EE5611_A4.ipynb\" target=\"_parent\"><img src=\"https://colab.research.google.com/assets/colab-badge.svg\" alt=\"Open In Colab\"/></a>"
      ]
    },
    {
      "cell_type": "markdown",
      "metadata": {
        "id": "qtdJneg6EzYV",
        "colab_type": "text"
      },
      "source": [
        "Import Statements"
      ]
    },
    {
      "cell_type": "code",
      "metadata": {
        "id": "nvxTOrrABXOc",
        "colab_type": "code",
        "colab": {}
      },
      "source": [
        "# All import statements\n",
        "import pandas as pd\n",
        "import numpy as np\n",
        "import matplotlib.pyplot as plt\n",
        "import math\n",
        "\n",
        "from pandas import read_csv\n",
        "from keras.models import Sequential\n",
        "from keras.layers import Dense\n",
        "from keras.layers import LSTM\n",
        "from sklearn.preprocessing import MinMaxScaler\n",
        "from sklearn.metrics import mean_squared_error"
      ],
      "execution_count": 0,
      "outputs": []
    },
    {
      "cell_type": "markdown",
      "metadata": {
        "id": "lmRXUFMvwjPF",
        "colab_type": "text"
      },
      "source": [
        "Read From CSV File\n"
      ]
    },
    {
      "cell_type": "code",
      "metadata": {
        "id": "Kfr4jRPnwRXV",
        "colab_type": "code",
        "colab": {}
      },
      "source": [
        "# Read all CSV Files\n",
        "train_df = pd.read_csv('https://raw.githubusercontent.com/rohithreddyvennam/AssignmentsFiles/master/train.csv')\n",
        "test_df = pd.read_csv('https://raw.githubusercontent.com/rohithreddyvennam/AssignmentsFiles/master/test_sample.csv')\n",
        "submission_df = pd.read_csv('https://raw.githubusercontent.com/rohithreddyvennam/AssignmentsFiles/master/sampleSubmission.csv')\n"
      ],
      "execution_count": 0,
      "outputs": []
    },
    {
      "cell_type": "markdown",
      "metadata": {
        "id": "NBFNigSaE6VM",
        "colab_type": "text"
      },
      "source": [
        "Display dataframes"
      ]
    },
    {
      "cell_type": "code",
      "metadata": {
        "id": "feqhXhkfyXpE",
        "colab_type": "code",
        "colab": {}
      },
      "source": [
        "train_df\n",
        "test_df\n",
        "submission_df"
      ],
      "execution_count": 0,
      "outputs": []
    },
    {
      "cell_type": "markdown",
      "metadata": {
        "id": "3NJGQrU4usRR",
        "colab_type": "text"
      },
      "source": [
        "Drop Extra Columns "
      ]
    },
    {
      "cell_type": "code",
      "metadata": {
        "id": "jNFcVPd6QTvb",
        "colab_type": "code",
        "colab": {}
      },
      "source": [
        "# drop Id axis\n",
        "train_df_trim = train_df.drop(['Id'], axis = 1)\n",
        "test_df_trim = test_df.drop(['Id'], axis = 1)"
      ],
      "execution_count": 0,
      "outputs": []
    },
    {
      "cell_type": "markdown",
      "metadata": {
        "id": "vPU-1AdcvWtc",
        "colab_type": "text"
      },
      "source": [
        "Extract Real and Imaginary"
      ]
    },
    {
      "cell_type": "code",
      "metadata": {
        "id": "BkXVN-wHu0Dm",
        "colab_type": "code",
        "colab": {}
      },
      "source": [
        "# set precision \n",
        "pd.set_option(\"display.precision\", 24)\n",
        "\n",
        "# changing object type to complex type\n",
        "df_train_complex = train_df_trim.apply(lambda col: col.apply(lambda val: complex(val.strip('()'))))\n",
        "train_df_real = df_train_complex.apply(np.real)\n",
        "train_df_imag = df_train_complex.apply(np.imag)\n",
        "\n",
        "# changing column names\n",
        "for ind in range(24):\n",
        "  train_df_real.rename(index=str, columns={str(ind): (str(ind)+\"r\")}, inplace=True)\n",
        "  train_df_imag.rename(index=str, columns={str(ind): (str(ind)+\"i\")}, inplace=True)\n",
        "\n",
        "# changing object type to complex type\n",
        "df_test_complex = test_df_trim.apply(lambda col: col.apply(lambda val: complex(val.strip('()'))))\n",
        "test_df_real = df_test_complex.apply(np.real)\n",
        "test_df_imag = df_test_complex.apply(np.imag)\n",
        "\n",
        "# changing column names\n",
        "for ind in range(24):\n",
        "  test_df_real.rename(index=str, columns={str(ind): (str(ind)+\"r\")}, inplace=True)\n",
        "  test_df_imag.rename(index=str, columns={str(ind): (str(ind)+\"i\")}, inplace=True)\n",
        "\n",
        "# df_train = pd.concat([train_df_real, train_df_imag], axis=1, join='inner')\n",
        "# df_test = pd.concat([test_df_real, test_df_imag], axis=1, join='inner')\n",
        "# df1.append(df2)"
      ],
      "execution_count": 0,
      "outputs": []
    },
    {
      "cell_type": "code",
      "metadata": {
        "id": "55UmdevOyJXK",
        "colab_type": "code",
        "colab": {}
      },
      "source": [
        "print (train_df_real)\n",
        "print (train_df_imag)\n",
        "print (test_df_real)\n",
        "print (test_df_imag)"
      ],
      "execution_count": 0,
      "outputs": []
    },
    {
      "cell_type": "markdown",
      "metadata": {
        "id": "6ZwpKMOawvZk",
        "colab_type": "text"
      },
      "source": [
        "Model"
      ]
    },
    {
      "cell_type": "code",
      "metadata": {
        "id": "EfRewcfFx97u",
        "colab_type": "code",
        "colab": {}
      },
      "source": [
        "# fix random seed for reproducibility\n",
        "numpy.random.seed(7)"
      ],
      "execution_count": 0,
      "outputs": []
    },
    {
      "cell_type": "code",
      "metadata": {
        "id": "RcxaekO-wt7S",
        "colab_type": "code",
        "colab": {}
      },
      "source": [
        "# convert an array of values into a dataset matrix\n",
        "def create_dataset(dataset, look_back=1):\n",
        "  dataX, dataY = [], []\n",
        "  for i in range(0, (len(dataset)-look_back),look_back):\n",
        "    a = dataset[i:(i+look_back), :]\n",
        "    dataX.append(a)\n",
        "    dataY.append(dataset[i + look_back, :])\n",
        "  return np.array(dataX), np.array(dataY)"
      ],
      "execution_count": 0,
      "outputs": []
    },
    {
      "cell_type": "code",
      "metadata": {
        "id": "k3JGN_-PyFoH",
        "colab_type": "code",
        "colab": {}
      },
      "source": [
        "# Load Data &  train full dataset\n",
        "dataset_train_real = train_df_real.values\n",
        "train_real = dataset_train_real.astype('float64')\n",
        "\n",
        "dataset_test_real = test_df_real.values\n",
        "test_real = dataset_test_real.astype('float64')\n",
        "\n",
        "dataset_train_imag = train_df_imag.values\n",
        "train_imag = dataset_train_imag.astype('float64')\n",
        "\n",
        "dataset_test_imag = test_df_imag.values\n",
        "test_imag = dataset_test_imag.astype('float64')"
      ],
      "execution_count": 0,
      "outputs": []
    },
    {
      "cell_type": "code",
      "metadata": {
        "id": "enbinjaHKkDd",
        "colab_type": "code",
        "colab": {
          "base_uri": "https://localhost:8080/",
          "height": 85
        },
        "outputId": "17b5a374-a79b-4af7-c502-6cc06b5f703d"
      },
      "source": [
        "# Display sets\n",
        "print(\"train_real :\",train_real.shape)\n",
        "print(\"test_real :\",test_real.shape)\n",
        "print(\"train_imag :\",train_imag.shape)\n",
        "print(\"test_imag :\",test_imag.shape)"
      ],
      "execution_count": 140,
      "outputs": [
        {
          "output_type": "stream",
          "text": [
            "train_real : (6000, 24)\n",
            "test_real : (3200, 24)\n",
            "train_imag : (6000, 24)\n",
            "test_imag : (3200, 24)\n"
          ],
          "name": "stdout"
        }
      ]
    },
    {
      "cell_type": "code",
      "metadata": {
        "id": "2I1RikdXycN8",
        "colab_type": "code",
        "colab": {}
      },
      "source": [
        "# split into train and test sets\n",
        "# train_size = int(len(dataset_norm) * 0.75)\n",
        "# test_size = len(dataset_norm) - train_size\n",
        "# train, test = dataset_norm[0:train_size,:], dataset_norm[train_size:len(dataset),:]\n",
        "\n",
        "# no timestamps used to predict \n",
        "look_back = 4\n",
        "samples = train_real.shape[0]\n",
        "features = train_real.shape[1]\n",
        "\n",
        "# reshape\n",
        "trainX_real, trainY_real = create_dataset(train_real, look_back)\n",
        "testX_real = test_real.reshape(int(test_real.shape[0]/look_back),look_back,test_real.shape[1])\n",
        "trainX_imag, trainY_imag = create_dataset(train_imag, look_back)\n",
        "testX_imag = test_imag.reshape(int(test_imag.shape[0]/look_back),look_back,test_imag.shape[1])"
      ],
      "execution_count": 0,
      "outputs": []
    },
    {
      "cell_type": "code",
      "metadata": {
        "id": "Z60luvz6yit8",
        "colab_type": "code",
        "colab": {
          "base_uri": "https://localhost:8080/",
          "height": 102
        },
        "outputId": "b0cfd9ff-abd2-4464-974f-87a3dfea4c79"
      },
      "source": [
        "print(train_real.shape,trainX_real.shape, trainY_real.shape)\n",
        "print(test_real.shape,testX_real.shape)\n",
        "print(train_imag.shape,trainX_imag.shape, trainY_imag.shape)\n",
        "print(test_imag.shape,testX_imag.shape)\n",
        "print('samples : ',samples,', features : ',features)"
      ],
      "execution_count": 145,
      "outputs": [
        {
          "output_type": "stream",
          "text": [
            "(6000, 24) (1499, 4, 24) (1499, 24)\n",
            "(3200, 24) (800, 4, 24)\n",
            "(6000, 24) (1499, 4, 24) (1499, 24)\n",
            "(3200, 24) (800, 4, 24)\n",
            "samples :  6000 , features :  24\n"
          ],
          "name": "stdout"
        }
      ]
    },
    {
      "cell_type": "code",
      "metadata": {
        "id": "i9aKNRMW_LXw",
        "colab_type": "code",
        "colab": {
          "base_uri": "https://localhost:8080/",
          "height": 1000
        },
        "outputId": "7bd63e54-b702-4ee4-c391-ba7cb94900d0"
      },
      "source": [
        "model_real = Sequential()\n",
        "model_real.add(LSTM(features, input_shape=(look_back, features)))\n",
        "model_real.add(Dense(features))\n",
        "model_real.compile(loss='mean_squared_error', optimizer='adam')\n",
        "model_real.fit(trainX_real, trainY_real, epochs=100, batch_size=1, verbose=1, shuffle=False)\n",
        "model_real.summary()"
      ],
      "execution_count": 159,
      "outputs": [
        {
          "output_type": "stream",
          "text": [
            "Epoch 1/100\n",
            "1499/1499 [==============================] - 4s 3ms/step - loss: 0.0070\n",
            "Epoch 2/100\n",
            "1499/1499 [==============================] - 3s 2ms/step - loss: 0.0019\n",
            "Epoch 3/100\n",
            "1499/1499 [==============================] - 3s 2ms/step - loss: 0.0014\n",
            "Epoch 4/100\n",
            "1499/1499 [==============================] - 4s 2ms/step - loss: 0.0011\n",
            "Epoch 5/100\n",
            "1499/1499 [==============================] - 3s 2ms/step - loss: 9.7390e-04\n",
            "Epoch 6/100\n",
            "1499/1499 [==============================] - 3s 2ms/step - loss: 8.3573e-04\n",
            "Epoch 7/100\n",
            "1499/1499 [==============================] - 4s 2ms/step - loss: 7.2373e-04\n",
            "Epoch 8/100\n",
            "1499/1499 [==============================] - 3s 2ms/step - loss: 6.2969e-04\n",
            "Epoch 9/100\n",
            "1499/1499 [==============================] - 5s 3ms/step - loss: 5.4884e-04\n",
            "Epoch 10/100\n",
            "1499/1499 [==============================] - 5s 4ms/step - loss: 4.8093e-04\n",
            "Epoch 11/100\n",
            "1499/1499 [==============================] - 5s 3ms/step - loss: 4.2488e-04\n",
            "Epoch 12/100\n",
            "1499/1499 [==============================] - 4s 2ms/step - loss: 3.7798e-04\n",
            "Epoch 13/100\n",
            "1499/1499 [==============================] - 4s 2ms/step - loss: 3.3648e-04\n",
            "Epoch 14/100\n",
            "1499/1499 [==============================] - 3s 2ms/step - loss: 2.9828e-04\n",
            "Epoch 15/100\n",
            "1499/1499 [==============================] - 4s 2ms/step - loss: 2.6916e-04\n",
            "Epoch 16/100\n",
            "1499/1499 [==============================] - 4s 2ms/step - loss: 2.4880e-04\n",
            "Epoch 17/100\n",
            "1499/1499 [==============================] - 4s 2ms/step - loss: 2.3336e-04\n",
            "Epoch 18/100\n",
            "1499/1499 [==============================] - 4s 2ms/step - loss: 2.1914e-04\n",
            "Epoch 19/100\n",
            "1499/1499 [==============================] - 4s 2ms/step - loss: 2.0701e-04\n",
            "Epoch 20/100\n",
            "1499/1499 [==============================] - 3s 2ms/step - loss: 1.9774e-04\n",
            "Epoch 21/100\n",
            "1499/1499 [==============================] - 4s 2ms/step - loss: 1.9100e-04\n",
            "Epoch 22/100\n",
            "1499/1499 [==============================] - 4s 2ms/step - loss: 1.8380e-04\n",
            "Epoch 23/100\n",
            "1499/1499 [==============================] - 4s 2ms/step - loss: 1.7889e-04\n",
            "Epoch 24/100\n",
            "1499/1499 [==============================] - 4s 2ms/step - loss: 1.7275e-04\n",
            "Epoch 25/100\n",
            "1499/1499 [==============================] - 4s 2ms/step - loss: 1.6388e-04\n",
            "Epoch 26/100\n",
            "1499/1499 [==============================] - 4s 2ms/step - loss: 1.6097e-04\n",
            "Epoch 27/100\n",
            "1499/1499 [==============================] - 4s 2ms/step - loss: 1.5948e-04\n",
            "Epoch 28/100\n",
            "1499/1499 [==============================] - 4s 2ms/step - loss: 1.5675e-04\n",
            "Epoch 29/100\n",
            "1499/1499 [==============================] - 4s 2ms/step - loss: 1.5894e-04\n",
            "Epoch 30/100\n",
            "1499/1499 [==============================] - 4s 2ms/step - loss: 1.5125e-04\n",
            "Epoch 31/100\n",
            "1499/1499 [==============================] - 4s 2ms/step - loss: 1.4887e-04\n",
            "Epoch 32/100\n",
            "1499/1499 [==============================] - 4s 2ms/step - loss: 1.4516e-04\n",
            "Epoch 33/100\n",
            "1499/1499 [==============================] - 4s 2ms/step - loss: 1.3876e-04\n",
            "Epoch 34/100\n",
            "1499/1499 [==============================] - 4s 2ms/step - loss: 1.3750e-04\n",
            "Epoch 35/100\n",
            "1499/1499 [==============================] - 4s 2ms/step - loss: 1.3606e-04\n",
            "Epoch 36/100\n",
            "1499/1499 [==============================] - 4s 2ms/step - loss: 1.3246e-04\n",
            "Epoch 37/100\n",
            "1499/1499 [==============================] - 4s 3ms/step - loss: 1.2915e-04\n",
            "Epoch 38/100\n",
            "1499/1499 [==============================] - 4s 2ms/step - loss: 1.3559e-04\n",
            "Epoch 39/100\n",
            "1499/1499 [==============================] - 4s 2ms/step - loss: 1.2959e-04\n",
            "Epoch 40/100\n",
            "1499/1499 [==============================] - 4s 2ms/step - loss: 1.2678e-04\n",
            "Epoch 41/100\n",
            "1499/1499 [==============================] - 4s 2ms/step - loss: 1.2378e-04\n",
            "Epoch 42/100\n",
            "1499/1499 [==============================] - 4s 2ms/step - loss: 1.2590e-04\n",
            "Epoch 43/100\n",
            "1499/1499 [==============================] - 4s 2ms/step - loss: 1.1998e-04\n",
            "Epoch 44/100\n",
            "1499/1499 [==============================] - 4s 2ms/step - loss: 1.2055e-04\n",
            "Epoch 45/100\n",
            "1499/1499 [==============================] - 4s 2ms/step - loss: 1.1458e-04\n",
            "Epoch 46/100\n",
            "1499/1499 [==============================] - 4s 2ms/step - loss: 1.2088e-04\n",
            "Epoch 47/100\n",
            "1499/1499 [==============================] - 4s 2ms/step - loss: 1.1197e-04\n",
            "Epoch 48/100\n",
            "1499/1499 [==============================] - 4s 2ms/step - loss: 1.1248e-04\n",
            "Epoch 49/100\n",
            "1499/1499 [==============================] - 4s 2ms/step - loss: 1.1140e-04\n",
            "Epoch 50/100\n",
            "1499/1499 [==============================] - 4s 3ms/step - loss: 1.1230e-04\n",
            "Epoch 51/100\n",
            "1499/1499 [==============================] - 4s 2ms/step - loss: 1.0640e-04\n",
            "Epoch 52/100\n",
            "1499/1499 [==============================] - 4s 2ms/step - loss: 1.1001e-04\n",
            "Epoch 53/100\n",
            "1499/1499 [==============================] - 4s 2ms/step - loss: 1.0329e-04\n",
            "Epoch 54/100\n",
            "1499/1499 [==============================] - 4s 2ms/step - loss: 1.0649e-04\n",
            "Epoch 55/100\n",
            "1499/1499 [==============================] - 4s 2ms/step - loss: 1.0464e-04\n",
            "Epoch 56/100\n",
            "1499/1499 [==============================] - 4s 2ms/step - loss: 1.0636e-04\n",
            "Epoch 57/100\n",
            "1499/1499 [==============================] - 4s 2ms/step - loss: 1.0144e-04\n",
            "Epoch 58/100\n",
            "1499/1499 [==============================] - 4s 2ms/step - loss: 1.0120e-04\n",
            "Epoch 59/100\n",
            "1499/1499 [==============================] - 4s 2ms/step - loss: 9.9223e-05\n",
            "Epoch 60/100\n",
            "1499/1499 [==============================] - 4s 2ms/step - loss: 9.8935e-05\n",
            "Epoch 61/100\n",
            "1499/1499 [==============================] - 4s 2ms/step - loss: 9.8877e-05\n",
            "Epoch 62/100\n",
            "1499/1499 [==============================] - 4s 2ms/step - loss: 9.7928e-05\n",
            "Epoch 63/100\n",
            "1499/1499 [==============================] - 3s 2ms/step - loss: 9.8694e-05\n",
            "Epoch 64/100\n",
            "1499/1499 [==============================] - 4s 2ms/step - loss: 9.6780e-05\n",
            "Epoch 65/100\n",
            "1499/1499 [==============================] - 4s 2ms/step - loss: 9.4431e-05\n",
            "Epoch 66/100\n",
            "1499/1499 [==============================] - 3s 2ms/step - loss: 9.4970e-05\n",
            "Epoch 67/100\n",
            "1499/1499 [==============================] - 3s 2ms/step - loss: 9.4219e-05\n",
            "Epoch 68/100\n",
            "1499/1499 [==============================] - 4s 2ms/step - loss: 9.4980e-05\n",
            "Epoch 69/100\n",
            "1499/1499 [==============================] - 4s 2ms/step - loss: 9.0479e-05\n",
            "Epoch 70/100\n",
            "1499/1499 [==============================] - 3s 2ms/step - loss: 9.1138e-05\n",
            "Epoch 71/100\n",
            "1499/1499 [==============================] - 4s 2ms/step - loss: 8.6447e-05\n",
            "Epoch 72/100\n",
            "1499/1499 [==============================] - 3s 2ms/step - loss: 9.3811e-05\n",
            "Epoch 73/100\n",
            "1499/1499 [==============================] - 3s 2ms/step - loss: 8.9320e-05\n",
            "Epoch 74/100\n",
            "1499/1499 [==============================] - 4s 2ms/step - loss: 9.1257e-05\n",
            "Epoch 75/100\n",
            "1499/1499 [==============================] - 4s 2ms/step - loss: 8.3044e-05\n",
            "Epoch 76/100\n",
            "1499/1499 [==============================] - 4s 2ms/step - loss: 9.2579e-05\n",
            "Epoch 77/100\n",
            "1499/1499 [==============================] - 4s 2ms/step - loss: 8.6039e-05\n",
            "Epoch 78/100\n",
            "1499/1499 [==============================] - 4s 2ms/step - loss: 8.6045e-05\n",
            "Epoch 79/100\n",
            "1499/1499 [==============================] - 4s 2ms/step - loss: 8.5719e-05\n",
            "Epoch 80/100\n",
            "1499/1499 [==============================] - 4s 2ms/step - loss: 8.6130e-05\n",
            "Epoch 81/100\n",
            "1499/1499 [==============================] - 4s 2ms/step - loss: 8.6720e-05\n",
            "Epoch 82/100\n",
            "1499/1499 [==============================] - 4s 2ms/step - loss: 8.4357e-05\n",
            "Epoch 83/100\n",
            "1499/1499 [==============================] - 4s 2ms/step - loss: 8.1660e-05\n",
            "Epoch 84/100\n",
            "1499/1499 [==============================] - 4s 2ms/step - loss: 8.4621e-05\n",
            "Epoch 85/100\n",
            "1499/1499 [==============================] - 4s 2ms/step - loss: 8.2805e-05\n",
            "Epoch 86/100\n",
            "1499/1499 [==============================] - 4s 2ms/step - loss: 8.3886e-05\n",
            "Epoch 87/100\n",
            "1499/1499 [==============================] - 4s 2ms/step - loss: 8.1591e-05\n",
            "Epoch 88/100\n",
            "1499/1499 [==============================] - 4s 2ms/step - loss: 8.3765e-05\n",
            "Epoch 89/100\n",
            "1499/1499 [==============================] - 4s 2ms/step - loss: 8.0426e-05\n",
            "Epoch 90/100\n",
            "1499/1499 [==============================] - 4s 2ms/step - loss: 8.0140e-05\n",
            "Epoch 91/100\n",
            "1499/1499 [==============================] - 4s 2ms/step - loss: 8.1629e-05\n",
            "Epoch 92/100\n",
            "1499/1499 [==============================] - 4s 2ms/step - loss: 7.9694e-05\n",
            "Epoch 93/100\n",
            "1499/1499 [==============================] - 4s 2ms/step - loss: 8.1292e-05\n",
            "Epoch 94/100\n",
            "1499/1499 [==============================] - 3s 2ms/step - loss: 7.9022e-05\n",
            "Epoch 95/100\n",
            "1499/1499 [==============================] - 3s 2ms/step - loss: 7.8295e-05\n",
            "Epoch 96/100\n",
            "1499/1499 [==============================] - 3s 2ms/step - loss: 7.7944e-05\n",
            "Epoch 97/100\n",
            "1499/1499 [==============================] - 3s 2ms/step - loss: 7.8508e-05\n",
            "Epoch 98/100\n",
            "1499/1499 [==============================] - 3s 2ms/step - loss: 7.8193e-05\n",
            "Epoch 99/100\n",
            "1499/1499 [==============================] - 3s 2ms/step - loss: 7.8142e-05\n",
            "Epoch 100/100\n",
            "1499/1499 [==============================] - 3s 2ms/step - loss: 7.5461e-05\n",
            "Model: \"sequential_8\"\n",
            "_________________________________________________________________\n",
            "Layer (type)                 Output Shape              Param #   \n",
            "=================================================================\n",
            "lstm_8 (LSTM)                (None, 24)                4704      \n",
            "_________________________________________________________________\n",
            "dense_8 (Dense)              (None, 24)                600       \n",
            "=================================================================\n",
            "Total params: 5,304\n",
            "Trainable params: 5,304\n",
            "Non-trainable params: 0\n",
            "_________________________________________________________________\n"
          ],
          "name": "stdout"
        }
      ]
    },
    {
      "cell_type": "code",
      "metadata": {
        "id": "G94yAXJjOIuM",
        "colab_type": "code",
        "colab": {
          "base_uri": "https://localhost:8080/",
          "height": 1000
        },
        "outputId": "3f422e43-0bb6-45fb-df43-0bbec5bcc2ec"
      },
      "source": [
        "model_imag = Sequential()\n",
        "model_imag.add(LSTM(features, input_shape=(look_back, features)))\n",
        "model_imag.add(Dense(features))\n",
        "model_imag.compile(loss='mean_squared_error', optimizer='adam')\n",
        "model_imag.fit(trainX_imag, trainY_imag, epochs=100, batch_size=1, verbose=1, shuffle=False)\n",
        "model_imag.summary()"
      ],
      "execution_count": 158,
      "outputs": [
        {
          "output_type": "stream",
          "text": [
            "Epoch 1/100\n",
            "1499/1499 [==============================] - 4s 3ms/step - loss: 0.0077\n",
            "Epoch 2/100\n",
            "1499/1499 [==============================] - 3s 2ms/step - loss: 0.0019\n",
            "Epoch 3/100\n",
            "1499/1499 [==============================] - 3s 2ms/step - loss: 0.0014\n",
            "Epoch 4/100\n",
            "1499/1499 [==============================] - 3s 2ms/step - loss: 0.0011\n",
            "Epoch 5/100\n",
            "1499/1499 [==============================] - 3s 2ms/step - loss: 9.4435e-04\n",
            "Epoch 6/100\n",
            "1499/1499 [==============================] - 3s 2ms/step - loss: 8.1702e-04\n",
            "Epoch 7/100\n",
            "1499/1499 [==============================] - 3s 2ms/step - loss: 7.1344e-04\n",
            "Epoch 8/100\n",
            "1499/1499 [==============================] - 3s 2ms/step - loss: 6.2387e-04\n",
            "Epoch 9/100\n",
            "1499/1499 [==============================] - 3s 2ms/step - loss: 5.4606e-04\n",
            "Epoch 10/100\n",
            "1499/1499 [==============================] - 3s 2ms/step - loss: 4.7945e-04\n",
            "Epoch 11/100\n",
            "1499/1499 [==============================] - 3s 2ms/step - loss: 4.2347e-04\n",
            "Epoch 12/100\n",
            "1499/1499 [==============================] - 3s 2ms/step - loss: 3.7669e-04\n",
            "Epoch 13/100\n",
            "1499/1499 [==============================] - 3s 2ms/step - loss: 3.3607e-04\n",
            "Epoch 14/100\n",
            "1499/1499 [==============================] - 3s 2ms/step - loss: 3.0252e-04\n",
            "Epoch 15/100\n",
            "1499/1499 [==============================] - 3s 2ms/step - loss: 2.7492e-04\n",
            "Epoch 16/100\n",
            "1499/1499 [==============================] - 3s 2ms/step - loss: 2.5165e-04\n",
            "Epoch 17/100\n",
            "1499/1499 [==============================] - 3s 2ms/step - loss: 2.3465e-04\n",
            "Epoch 18/100\n",
            "1499/1499 [==============================] - 3s 2ms/step - loss: 2.1979e-04\n",
            "Epoch 19/100\n",
            "1499/1499 [==============================] - 3s 2ms/step - loss: 2.1075e-04\n",
            "Epoch 20/100\n",
            "1499/1499 [==============================] - 3s 2ms/step - loss: 2.0770e-04\n",
            "Epoch 21/100\n",
            "1499/1499 [==============================] - 3s 2ms/step - loss: 1.8978e-04\n",
            "Epoch 22/100\n",
            "1499/1499 [==============================] - 3s 2ms/step - loss: 1.8495e-04\n",
            "Epoch 23/100\n",
            "1499/1499 [==============================] - 3s 2ms/step - loss: 1.7916e-04\n",
            "Epoch 24/100\n",
            "1499/1499 [==============================] - 3s 2ms/step - loss: 1.7041e-04\n",
            "Epoch 25/100\n",
            "1499/1499 [==============================] - 3s 2ms/step - loss: 1.6545e-04\n",
            "Epoch 26/100\n",
            "1499/1499 [==============================] - 3s 2ms/step - loss: 1.6624e-04\n",
            "Epoch 27/100\n",
            "1499/1499 [==============================] - 3s 2ms/step - loss: 1.6529e-04\n",
            "Epoch 28/100\n",
            "1499/1499 [==============================] - 3s 2ms/step - loss: 1.5404e-04\n",
            "Epoch 29/100\n",
            "1499/1499 [==============================] - 3s 2ms/step - loss: 1.5686e-04\n",
            "Epoch 30/100\n",
            "1499/1499 [==============================] - 3s 2ms/step - loss: 1.4859e-04\n",
            "Epoch 31/100\n",
            "1499/1499 [==============================] - 3s 2ms/step - loss: 1.4961e-04\n",
            "Epoch 32/100\n",
            "1499/1499 [==============================] - 3s 2ms/step - loss: 1.4421e-04\n",
            "Epoch 33/100\n",
            "1499/1499 [==============================] - 3s 2ms/step - loss: 1.4362e-04\n",
            "Epoch 34/100\n",
            "1499/1499 [==============================] - 3s 2ms/step - loss: 1.4077e-04\n",
            "Epoch 35/100\n",
            "1499/1499 [==============================] - 3s 2ms/step - loss: 1.3279e-04\n",
            "Epoch 36/100\n",
            "1499/1499 [==============================] - 3s 2ms/step - loss: 1.3622e-04\n",
            "Epoch 37/100\n",
            "1499/1499 [==============================] - 3s 2ms/step - loss: 1.3602e-04\n",
            "Epoch 38/100\n",
            "1499/1499 [==============================] - 3s 2ms/step - loss: 1.3023e-04\n",
            "Epoch 39/100\n",
            "1499/1499 [==============================] - 3s 2ms/step - loss: 1.2986e-04\n",
            "Epoch 40/100\n",
            "1499/1499 [==============================] - 3s 2ms/step - loss: 1.2548e-04\n",
            "Epoch 41/100\n",
            "1499/1499 [==============================] - 3s 2ms/step - loss: 1.2393e-04\n",
            "Epoch 42/100\n",
            "1499/1499 [==============================] - 3s 2ms/step - loss: 1.2297e-04\n",
            "Epoch 43/100\n",
            "1499/1499 [==============================] - 3s 2ms/step - loss: 1.2926e-04\n",
            "Epoch 44/100\n",
            "1499/1499 [==============================] - 3s 2ms/step - loss: 1.1482e-04\n",
            "Epoch 45/100\n",
            "1499/1499 [==============================] - 3s 2ms/step - loss: 1.1813e-04\n",
            "Epoch 46/100\n",
            "1499/1499 [==============================] - 3s 2ms/step - loss: 1.1607e-04\n",
            "Epoch 47/100\n",
            "1499/1499 [==============================] - 3s 2ms/step - loss: 1.1651e-04\n",
            "Epoch 48/100\n",
            "1499/1499 [==============================] - 3s 2ms/step - loss: 1.1752e-04\n",
            "Epoch 49/100\n",
            "1499/1499 [==============================] - 3s 2ms/step - loss: 1.1603e-04\n",
            "Epoch 50/100\n",
            "1499/1499 [==============================] - 3s 2ms/step - loss: 1.0547e-04\n",
            "Epoch 51/100\n",
            "1499/1499 [==============================] - 3s 2ms/step - loss: 1.0948e-04\n",
            "Epoch 52/100\n",
            "1499/1499 [==============================] - 3s 2ms/step - loss: 1.0618e-04\n",
            "Epoch 53/100\n",
            "1499/1499 [==============================] - 3s 2ms/step - loss: 1.0512e-04\n",
            "Epoch 54/100\n",
            "1499/1499 [==============================] - 3s 2ms/step - loss: 1.0960e-04\n",
            "Epoch 55/100\n",
            "1499/1499 [==============================] - 3s 2ms/step - loss: 9.9659e-05\n",
            "Epoch 56/100\n",
            "1499/1499 [==============================] - 3s 2ms/step - loss: 1.0178e-04\n",
            "Epoch 57/100\n",
            "1499/1499 [==============================] - 3s 2ms/step - loss: 1.0769e-04\n",
            "Epoch 58/100\n",
            "1499/1499 [==============================] - 3s 2ms/step - loss: 1.0426e-04\n",
            "Epoch 59/100\n",
            "1499/1499 [==============================] - 3s 2ms/step - loss: 1.0429e-04\n",
            "Epoch 60/100\n",
            "1499/1499 [==============================] - 3s 2ms/step - loss: 9.5749e-05\n",
            "Epoch 61/100\n",
            "1499/1499 [==============================] - 3s 2ms/step - loss: 1.0227e-04\n",
            "Epoch 62/100\n",
            "1499/1499 [==============================] - 3s 2ms/step - loss: 1.0094e-04\n",
            "Epoch 63/100\n",
            "1499/1499 [==============================] - 3s 2ms/step - loss: 9.6771e-05\n",
            "Epoch 64/100\n",
            "1499/1499 [==============================] - 3s 2ms/step - loss: 9.3683e-05\n",
            "Epoch 65/100\n",
            "1499/1499 [==============================] - 3s 2ms/step - loss: 9.8886e-05\n",
            "Epoch 66/100\n",
            "1499/1499 [==============================] - 3s 2ms/step - loss: 9.3474e-05\n",
            "Epoch 67/100\n",
            "1499/1499 [==============================] - 3s 2ms/step - loss: 9.4072e-05\n",
            "Epoch 68/100\n",
            "1499/1499 [==============================] - 3s 2ms/step - loss: 9.2166e-05\n",
            "Epoch 69/100\n",
            "1499/1499 [==============================] - 3s 2ms/step - loss: 9.4446e-05\n",
            "Epoch 70/100\n",
            "1499/1499 [==============================] - 3s 2ms/step - loss: 9.4992e-05\n",
            "Epoch 71/100\n",
            "1499/1499 [==============================] - 3s 2ms/step - loss: 8.7524e-05\n",
            "Epoch 72/100\n",
            "1499/1499 [==============================] - 4s 3ms/step - loss: 8.7899e-05\n",
            "Epoch 73/100\n",
            "1499/1499 [==============================] - 5s 3ms/step - loss: 9.0204e-05\n",
            "Epoch 74/100\n",
            "1499/1499 [==============================] - 4s 2ms/step - loss: 8.7460e-05\n",
            "Epoch 75/100\n",
            "1499/1499 [==============================] - 4s 2ms/step - loss: 9.0573e-05\n",
            "Epoch 76/100\n",
            "1499/1499 [==============================] - 3s 2ms/step - loss: 8.8608e-05\n",
            "Epoch 77/100\n",
            "1499/1499 [==============================] - 4s 2ms/step - loss: 8.7748e-05\n",
            "Epoch 78/100\n",
            "1499/1499 [==============================] - 4s 2ms/step - loss: 8.4647e-05\n",
            "Epoch 79/100\n",
            "1499/1499 [==============================] - 3s 2ms/step - loss: 8.5247e-05\n",
            "Epoch 80/100\n",
            "1499/1499 [==============================] - 3s 2ms/step - loss: 8.6778e-05\n",
            "Epoch 81/100\n",
            "1499/1499 [==============================] - 4s 2ms/step - loss: 8.3261e-05\n",
            "Epoch 82/100\n",
            "1499/1499 [==============================] - 4s 2ms/step - loss: 8.6554e-05\n",
            "Epoch 83/100\n",
            "1499/1499 [==============================] - 3s 2ms/step - loss: 8.5883e-05\n",
            "Epoch 84/100\n",
            "1499/1499 [==============================] - 4s 2ms/step - loss: 8.4653e-05\n",
            "Epoch 85/100\n",
            "1499/1499 [==============================] - 4s 2ms/step - loss: 8.6893e-05\n",
            "Epoch 86/100\n",
            "1499/1499 [==============================] - 4s 2ms/step - loss: 8.3432e-05\n",
            "Epoch 87/100\n",
            "1499/1499 [==============================] - 4s 2ms/step - loss: 8.0507e-05\n",
            "Epoch 88/100\n",
            "1499/1499 [==============================] - 4s 2ms/step - loss: 8.3541e-05\n",
            "Epoch 89/100\n",
            "1499/1499 [==============================] - 3s 2ms/step - loss: 7.9726e-05\n",
            "Epoch 90/100\n",
            "1499/1499 [==============================] - 4s 2ms/step - loss: 8.0618e-05\n",
            "Epoch 91/100\n",
            "1499/1499 [==============================] - 3s 2ms/step - loss: 8.3834e-05\n",
            "Epoch 92/100\n",
            "1499/1499 [==============================] - 4s 2ms/step - loss: 8.1749e-05\n",
            "Epoch 93/100\n",
            "1499/1499 [==============================] - 4s 2ms/step - loss: 7.9357e-05\n",
            "Epoch 94/100\n",
            "1499/1499 [==============================] - 4s 2ms/step - loss: 7.8875e-05\n",
            "Epoch 95/100\n",
            "1499/1499 [==============================] - 3s 2ms/step - loss: 7.9684e-05\n",
            "Epoch 96/100\n",
            "1499/1499 [==============================] - 4s 2ms/step - loss: 7.7703e-05\n",
            "Epoch 97/100\n",
            "1499/1499 [==============================] - 4s 2ms/step - loss: 8.0622e-05\n",
            "Epoch 98/100\n",
            "1499/1499 [==============================] - 4s 2ms/step - loss: 7.8879e-05\n",
            "Epoch 99/100\n",
            "1499/1499 [==============================] - 4s 2ms/step - loss: 7.9456e-05\n",
            "Epoch 100/100\n",
            "1499/1499 [==============================] - 4s 2ms/step - loss: 7.4711e-05\n",
            "Model: \"sequential_7\"\n",
            "_________________________________________________________________\n",
            "Layer (type)                 Output Shape              Param #   \n",
            "=================================================================\n",
            "lstm_7 (LSTM)                (None, 24)                4704      \n",
            "_________________________________________________________________\n",
            "dense_7 (Dense)              (None, 24)                600       \n",
            "=================================================================\n",
            "Total params: 5,304\n",
            "Trainable params: 5,304\n",
            "Non-trainable params: 0\n",
            "_________________________________________________________________\n"
          ],
          "name": "stdout"
        }
      ]
    },
    {
      "cell_type": "code",
      "metadata": {
        "id": "ogLCs2O3_69w",
        "colab_type": "code",
        "colab": {
          "base_uri": "https://localhost:8080/",
          "height": 51
        },
        "outputId": "f1c667ea-e939-4bce-9dc9-c0ba18a8df6e"
      },
      "source": [
        "# make predictions\n",
        "trainPredict_real = model.predict(trainX_real)\n",
        "testPredict_real = model.predict(testX_real)\n",
        "\n",
        "trainPredict_imag = model.predict(trainX_imag)\n",
        "testPredict_imag = model.predict(testX_imag)\n",
        "\n",
        "\n",
        "print(trainPredict_real.shape,trainY_real.shape, trainPredict_imag.shape,trainY_imag.shape)\n",
        "print(testPredict_real.shape,testPredict_imag.shape)\n",
        "\n",
        "# invert predictions\n",
        "#trainPredict = scaler.inverse_transform(trainPredict)\n",
        "#trainY = scaler.inverse_transform([trainY])\n",
        "#testPredict = scaler.inverse_transform(testPredict)\n",
        "#testY = scaler.inverse_transform([testY])\n"
      ],
      "execution_count": 160,
      "outputs": [
        {
          "output_type": "stream",
          "text": [
            "(1499, 24) (1499, 24) (1499, 24) (1499, 24)\n",
            "(800, 24) (800, 24)\n"
          ],
          "name": "stdout"
        }
      ]
    },
    {
      "cell_type": "code",
      "metadata": {
        "id": "TdWUggDABJoL",
        "colab_type": "code",
        "colab": {
          "base_uri": "https://localhost:8080/",
          "height": 51
        },
        "outputId": "46f72f8f-abc3-4097-ee66-decb66519791"
      },
      "source": [
        "# calculate root mean squared error\n",
        "trainScore = math.sqrt(mean_squared_error(trainY_real[:,:], trainPredict_real[:,:]))\n",
        "print('Train Score: %.5f RMSE' % (trainScore))\n",
        "trainScore = math.sqrt(mean_squared_error(trainY_imag[:,:], trainPredict_imag[:,:]))\n",
        "print('Train Score: %.5f RMSE' % (trainScore))\n",
        "#testScore = math.sqrt(mean_squared_error(testY[:,:], testPredict[:,:]))\n",
        "#print('Test Score: %.5f RMSE' % (testScore))"
      ],
      "execution_count": 161,
      "outputs": [
        {
          "output_type": "stream",
          "text": [
            "Train Score: 0.01194 RMSE\n",
            "Train Score: 0.01408 RMSE\n"
          ],
          "name": "stdout"
        }
      ]
    },
    {
      "cell_type": "code",
      "metadata": {
        "id": "FqdToJRSCdZm",
        "colab_type": "code",
        "colab": {
          "base_uri": "https://localhost:8080/",
          "height": 459
        },
        "outputId": "ac471aef-0d2d-46a8-e819-585f342749d0"
      },
      "source": [
        "print(\"testPredict_real\",testPredict_real)\n",
        "print(\"testPredict_imag\",testPredict_imag)"
      ],
      "execution_count": 162,
      "outputs": [
        {
          "output_type": "stream",
          "text": [
            "testPredict_real [[-0.03001188  0.00297151  0.13133228 ...  0.05652747 -0.05103165\n",
            "   0.00984133]\n",
            " [-0.02329423  0.12372302  0.17992842 ...  0.07066316 -0.06314562\n",
            "   0.01576314]\n",
            " [-0.00420924  0.16702917  0.22249907 ...  0.05312184 -0.06055377\n",
            "   0.01700628]\n",
            " ...\n",
            " [ 0.04735734  0.04034699 -0.08762878 ... -0.02657546 -0.00763394\n",
            "   0.04737229]\n",
            " [-0.01995688  0.09008821 -0.15161651 ... -0.01298008 -0.00566526\n",
            "   0.04479961]\n",
            " [-0.06772197  0.19419526 -0.15758178 ...  0.0027257  -0.00361911\n",
            "   0.03404401]]\n",
            "testPredict_imag [[ 0.33594584  0.71249026  0.10382327 ...  0.00622371  0.01747202\n",
            "   0.00238531]\n",
            " [ 0.35235542  0.6788337   0.11736022 ...  0.02631615  0.00953578\n",
            "   0.01517659]\n",
            " [ 0.28808174  0.52683026  0.08652071 ...  0.03081469 -0.00209489\n",
            "   0.02584946]\n",
            " ...\n",
            " [ 0.02391118  0.09946964  0.17586957 ...  0.01562013 -0.0413981\n",
            "   0.00142867]\n",
            " [ 0.06857813  0.20579813  0.05502083 ...  0.04376975 -0.02850284\n",
            "  -0.00343068]\n",
            " [ 0.08124907  0.27947772 -0.06980911 ...  0.05053839 -0.02063436\n",
            "  -0.00711911]]\n"
          ],
          "name": "stdout"
        }
      ]
    },
    {
      "cell_type": "code",
      "metadata": {
        "id": "Lqq34VH4U4Mm",
        "colab_type": "code",
        "colab": {}
      },
      "source": [
        "np.savetxt('data_real.csv', testPredict_real, delimiter=',')\n",
        "np.savetxt('data_imag.csv', testPredict_imag, delimiter=',')\n"
      ],
      "execution_count": 0,
      "outputs": []
    }
  ]
}